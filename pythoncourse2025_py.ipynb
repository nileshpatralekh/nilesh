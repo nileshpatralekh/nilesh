{
  "nbformat": 4,
  "nbformat_minor": 0,
  "metadata": {
    "colab": {
      "provenance": [],
      "collapsed_sections": [
        "42Lw391bkdca",
        "Dm34dA1qmAQK",
        "0Q7i5q68op7B",
        "mgKttrMLrDLf",
        "E0ZMU49uz2cE",
        "1DxQF8YcyvRx",
        "32UQ1BHytHyC",
        "yAk4FDHRSOwE",
        "5DqJjXOR4a42",
        "2_XC6g5ooSzY",
        "UVVpRVHtt8us"
      ],
      "authorship_tag": "ABX9TyN5aOFpQGsYvr0fMOQPNCzF"
    },
    "kernelspec": {
      "name": "python3",
      "display_name": "Python 3"
    },
    "language_info": {
      "name": "python"
    }
  },
  "cells": [
    {
      "cell_type": "markdown",
      "source": [
        "#w1L1 - basics of algorithms - compute gcd"
      ],
      "metadata": {
        "id": "42Lw391bkdca"
      }
    },
    {
      "cell_type": "code",
      "source": [
        "def gcd(m,n): #behaving like a function in maths\n",
        "    fm = [] #assigning value\n",
        "    for i in range (1,m+1): # from 1 to m\n",
        "        if (m%i) == 0:\n",
        "            fm.append(i)\n",
        "    fn = []\n",
        "    for j in range (1,n+1):\n",
        "        if (n%j) == 0: # % means remainder in a division\n",
        "            fn.append(j) # means updating the value in the list\n",
        "    cf = []\n",
        "    for f in fm:\n",
        "        if f in fn:\n",
        "            cf.append(f) # compute cf\n",
        "    return(cf[-1]) # -1 in list is reffering to rightmost element\n",
        "\n",
        "m = 50\n",
        "n = 100\n",
        "\n",
        "print (\"the gcd of 50 and 100 is : \", end=\"\")\n",
        "print (gcd(m,n))"
      ],
      "metadata": {
        "colab": {
          "base_uri": "https://localhost:8080/"
        },
        "id": "HnYdJvKSk3XM",
        "outputId": "f92f6e6e-30e8-49ec-a1ae-4b486633b68f"
      },
      "execution_count": null,
      "outputs": [
        {
          "output_type": "stream",
          "name": "stdout",
          "text": [
            "the gcd of 50 and 100 is : 50\n"
          ]
        }
      ]
    },
    {
      "source": [
        "#my code with ai help in lin6\n",
        "def gcd(m, n):\n",
        "    result = []\n",
        "    for i in m:\n",
        "        if i in n:\n",
        "            result.append(i)\n",
        "\n",
        "    if result:  # Check if result is not empty\n",
        "        max_common = max(result)  # Find the maximum common value\n",
        "        new_list = [max_common]  # Create a new list with the maximum\n",
        "        return new_list\n",
        "    else:\n",
        "        return []  # Return an empty list if no common elements found\n",
        "m = [1,5,7,9,8]\n",
        "n= [6,5,4,3,2]\n",
        "print(gcd(m,n))"
      ],
      "cell_type": "code",
      "metadata": {
        "id": "Ym3T7u0Dva6T",
        "colab": {
          "base_uri": "https://localhost:8080/"
        },
        "outputId": "26a52300-610b-42f0-b82e-d7314b9ec83f"
      },
      "execution_count": null,
      "outputs": [
        {
          "output_type": "stream",
          "name": "stdout",
          "text": [
            "[5]\n"
          ]
        }
      ]
    },
    {
      "cell_type": "markdown",
      "source": [
        "*important points*\n",
        "\n",
        "assigning values explicitely use [ ]\n",
        "\n",
        "assigning values implicitely use - for f in cf:"
      ],
      "metadata": {
        "id": "W3tIauI-mev_"
      }
    },
    {
      "cell_type": "markdown",
      "source": [
        "#W1L2 improving gcd"
      ],
      "metadata": {
        "id": "Dm34dA1qmAQK"
      }
    },
    {
      "cell_type": "code",
      "source": [
        "def gcd(m,n):\n",
        "    cf = []\n",
        "    for i in range (1,min(m,n)+1):\n",
        "        if (m%i) == 0 and (n%i) == 0:\n",
        "            cf.append(i)\n",
        "    return(cf[-1])\n",
        "m = 50\n",
        "n = 100\n",
        "print (\"the gcd of 50 and 100 is : \", end=\"\")\n",
        "print (gcd(m,n)"
      ],
      "metadata": {
        "id": "ryK8AC2Pl-41"
      },
      "execution_count": null,
      "outputs": []
    },
    {
      "cell_type": "markdown",
      "source": [
        "we only need to remember the largest values and thus eliminating lists"
      ],
      "metadata": {
        "id": "_qRNhNdToFJo"
      }
    },
    {
      "cell_type": "code",
      "source": [
        "def gcd(m,n):\n",
        "    for i in range (1,min(m,n)+1):\n",
        "        if (m%i) == 0 and (n%i) == 0:\n",
        "            mrcf = i\n",
        "        return(mrcf)"
      ],
      "metadata": {
        "id": "Qp5wXKVQnnnu"
      },
      "execution_count": null,
      "outputs": []
    },
    {
      "cell_type": "markdown",
      "source": [
        "we can also scan backwards"
      ],
      "metadata": {
        "id": "Ecg8fVPToSgf"
      }
    },
    {
      "cell_type": "code",
      "source": [
        "def gcd(m,n):\n",
        "    i = min(m,n) # = means assignment of a value and == means equals\n",
        "    while i > 0:\n",
        "        if (m%i) == 0 and (n%i) == 0:\n",
        "            return(i) # return means exit\n",
        "        else:\n",
        "            i = i-1"
      ],
      "metadata": {
        "id": "1ulC0LnuoVdX"
      },
      "execution_count": null,
      "outputs": []
    },
    {
      "cell_type": "markdown",
      "source": [
        "#W1L3 - euclid's algorithm"
      ],
      "metadata": {
        "id": "0Q7i5q68op7B"
      }
    },
    {
      "cell_type": "markdown",
      "source": [
        "\n",
        "\n",
        "```\n",
        "suppose d divides both m and n and m>n\n",
        "\n",
        "then m= ad\n",
        "and n = bd\n",
        "\n",
        "then, m-n = (a-b)d\n",
        "\n",
        "=d is also a multiple of m-n\n",
        "\n",
        "so gcd(m,n)=gcd(m,m-n)\n",
        "```\n",
        "\n"
      ],
      "metadata": {
        "id": "yX7sm4lVpBU9"
      }
    },
    {
      "cell_type": "code",
      "source": [
        "def gcd(m,n):\n",
        "    #assume m>=n  #this is a comment\n",
        "    if m<n:\n",
        "        (m,n) = (n,m) #exhanging values , but it is peculiar to python\n",
        "    if (m%n) == 0:\n",
        "        return(n)\n",
        "    else:\n",
        "        diff = m-n # diff > n?  not possible\n",
        "        return(gcd(max(n,diff),min(n,diff)) #recursion"
      ],
      "metadata": {
        "id": "R-z7HGZEovNG"
      },
      "execution_count": null,
      "outputs": []
    },
    {
      "cell_type": "code",
      "source": [
        "def gcd(m,n):\n",
        "    if m<n:\n",
        "        (m,n) = (n,m)\n",
        "    while(m%n) != 0:\n",
        "        diff = m-n #diff m-n>n not possible\n",
        "        (m,n) = (max(n,diff),min(n,diff))\n",
        "    return(n)"
      ],
      "metadata": {
        "id": "qq2PVZgsqUow"
      },
      "execution_count": null,
      "outputs": []
    },
    {
      "cell_type": "markdown",
      "source": [
        "#W2L1 - assignment,stetement,basictypes- int,float,bool"
      ],
      "metadata": {
        "id": "mgKttrMLrDLf"
      }
    },
    {
      "cell_type": "markdown",
      "source": [
        "\n",
        "\n",
        "```\n",
        "# This is formatted as code\n",
        "\n",
        "def function_1(..,.,):\n",
        "....\n",
        "def function_2(..):\n",
        "....\n",
        "def function_3(.,.):\n",
        "...\n",
        "...\n",
        "...\n",
        "statement_1   #this is where execution happens\n",
        "statement_2\n",
        "statement_3\n",
        "\n",
        "it is recommended that function definition should written first and then execution should happens\n",
        "\n",
        "i = 5\n",
        "j = j*5\n",
        "j = j+5 #updating the value of j\n",
        "\n",
        "left hand side name and right hand side expression\n",
        "\n",
        "*numeric values*\n",
        "(1) int - integer (ex- 19,15 etc.)\n",
        "(2) float - fractional numbers (ex - 0.602)\n",
        "\n",
        ">internally the values are stored as a finite sequence of 0's and 1's\n",
        ">for int(fixed) this value is stored as binary numbers\n",
        ">for float(not fixed), the sequence breaks up into mantisaa(0.602) and exponent(10^23)\n",
        "*operations*\n",
        ">arithmetic operations - +,- , *, /\n",
        "*quotient and remainder*\n",
        ">9//5 is 1\n",
        ">9%5 is 4\n",
        "\n",
        "*exponential*\n",
        "3**4 is 81\n",
        "\n",
        ">log(),sqrt(),sin()\n",
        ">must include math \"library\"\n",
        ">from math import*\n",
        "\n",
        "*names,values,types*\n",
        ">values have types\n",
        "i = 5 #this is a int\n",
        "i = 7*i # this is int\n",
        "j = i/3 #this is float\n",
        "....\n",
        "i = 2*j #this is a new float\n",
        "\n",
        ">type(e) #type of expression e\n",
        "\n",
        "*boolean values* bool\n",
        ">true or false\n",
        "\n",
        "*logical operations*\n",
        "(1) not -   true - flase\n",
        "            flase - true\n",
        "(2) and -   x and y is true,if both of them is true\n",
        "(3) or -   x or y is true if at least one of them is true\n",
        "\n",
        "*comparisons*\n",
        "> x == y - equals\n",
        "> x != y - not equal\n",
        "> x < 17\n",
        "> x > 17\n",
        "\n",
        "*combine with logical operations*\n",
        "> n > 0 and m%n == 0\n",
        "*assign a boolean expression to a name*\n",
        "> divisor = (m%n == 0) - divisor is a bool\n",
        "\n",
        "\n",
        "```\n",
        "\n"
      ],
      "metadata": {
        "id": "9o93sqimrwle"
      }
    },
    {
      "cell_type": "code",
      "source": [
        "def divides(m,n):\n",
        "    if n%m == 0:\n",
        "        return(true)\n",
        "    else:\n",
        "        return(false)\n",
        "def even(n):\n",
        "    if n%2 == 0:\n",
        "        return(divides(2,n))\n",
        "def odd(n):\n",
        "    return(not divides(2,n))"
      ],
      "metadata": {
        "id": "wQhsL8eOrrwo"
      },
      "execution_count": null,
      "outputs": []
    },
    {
      "cell_type": "markdown",
      "source": [
        "#W2L2 - Strings"
      ],
      "metadata": {
        "id": "E0ZMU49uz2cE"
      }
    },
    {
      "cell_type": "markdown",
      "source": [
        "\n",
        "```\n",
        "\n",
        "*Python Strings*\n",
        "\n",
        ">Strings are sequences of characters.\n",
        ">Strings are defined using quotes (single, double, or triple).\n",
        ">Individual characters in a string can be accessed using their index (position).\n",
        ">Slices can be used to extract substrings.\n",
        ">Strings can be concatenated using the + operator.\n",
        ">Strings are immutable, meaning they cannot be changed after they are created.\n",
        "\n",
        "*String Operations*\n",
        ">Concatenation: The + operator combines two strings into a new string.\n",
        "\n",
        "Length: The len() function returns the number of characters in a string.\n",
        "\n",
        "Indexing: Individual characters can be accessed using their position (index).\n",
        "\n",
        "Slicing: Substrings can be extracted using slices.\n",
        "\n",
        "Immutability\n",
        ">Strings cannot be modified after they are created.\n",
        ">Attempting to modify a string in place will result in an error.\n",
        ">To create a modified string, you must create a new string using operations like slicing and concatenation.\n",
        "\n",
        "# Attempting to modify a string in place will result in an error\n",
        "# s[0] = \"H\"  # This will cause an error\n",
        "\n",
        "# To create a modified string, create a new string\n",
        "new_s = \"H\" + s[1:]  # new_s is \"Hello\"\n",
        "```\n",
        "\n"
      ],
      "metadata": {
        "id": "dkmnlxRL2KHc"
      }
    },
    {
      "cell_type": "code",
      "source": [
        "s = \"hello\"\n",
        "s = s +\", there\"\n",
        "print(s)\n",
        "len(s)\n",
        "first_cha = s[0]\n",
        "last_cha = s[-1]\n",
        "\n",
        "subs = s[0:3]\n",
        "\n"
      ],
      "metadata": {
        "id": "gud0_Wk67kVI"
      },
      "execution_count": null,
      "outputs": []
    },
    {
      "cell_type": "markdown",
      "source": [],
      "metadata": {
        "id": "pIx-Z_liytrZ"
      }
    },
    {
      "cell_type": "markdown",
      "source": [
        "#W2L3 - lists"
      ],
      "metadata": {
        "id": "1DxQF8YcyvRx"
      }
    },
    {
      "cell_type": "markdown",
      "source": [
        "\n",
        "\n",
        "```\n",
        "1. Lists\n",
        "\n",
        "Definition: Lists are sequences of values, similar to strings, but with some key differences.\n",
        "\n",
        ">Heterogeneous types: Lists can contain elements of different data types (e.g., integers, strings, Booleans).\n",
        ">Accessing elements:Individual elements can be accessed using their index (position) within the list.\n",
        ">Slices can be used to extract sublists.\n",
        "\n",
        ">length: The len() function returns the number of elements in a list.\n",
        "\n",
        ">Mutability: Lists are mutable, meaning their elements can be changed after the list is created. This is different from strings, which are immutable.\n",
        "\n",
        ">Nested lists: Lists can contain other lists, allowing for complex data structures.\n",
        "\n",
        "2. Strings\n",
        "Definition: Strings are sequences of characters.\n",
        "\n",
        ">Accessing elements:Individual characters can be accessed using their index.\n",
        ">Slices can be used to extract substrings.\n",
        ">Immutability: Strings are immutable, meaning their characters cannot be changed after the string is created.\n",
        "\n",
        "3. Lists vs. Strings\n",
        "Key difference:️Lists can contain elements of different data types, while strings can only contain characters.\n",
        ">Lists are mutable, while strings are immutable.\n",
        ">Slicing a list returns a new list, while slicing a string returns a new string.\n",
        ">Individual elements in a list are not the same as single-element lists, while individual characters in a string are the same as single-character strings.\n",
        "\n",
        "4. Mutability and Immutability\n",
        ">Mutable objects: Objects whose values can be changed after they are created (e.g., lists).\n",
        ">Immutable objects: Objects whose values cannot be changed after they are created (e.g., strings, numbers, Booleans).\n",
        ">Assignment and copying:\n",
        "Assigning a mutable object to a new variable does not create a copy of the object. Both variables will refer to the same object in memory.\n",
        ">To create a copy of a mutable object, use the copy() method or slicing.\n",
        ">Assigning an immutable object to a new variable creates a copy of the object. Both variables will refer to different objects in memory.\n",
        "\n",
        "\n",
        "```\n",
        "\n"
      ],
      "metadata": {
        "id": "KdB_AsRoy0nA"
      }
    },
    {
      "cell_type": "code",
      "source": [
        "numbers = [1, 2, 3, 4, 5]\n",
        "words = [\"hello\", \"world\"]\n",
        "mixed = [1, \"hello\", True]\n",
        "print(numbers[0])\n",
        "words[1]\n",
        "mixed[0:2]\n",
        "len(words)\n",
        "numbers[0] = 10\n",
        "print(numbers)\n"
      ],
      "metadata": {
        "colab": {
          "base_uri": "https://localhost:8080/"
        },
        "id": "qq3UYnVX0JeF",
        "outputId": "6f4db105-ccfc-4d01-ca77-6d37a662cde8"
      },
      "execution_count": null,
      "outputs": [
        {
          "output_type": "stream",
          "name": "stdout",
          "text": [
            "1\n",
            "[10, 2, 3, 4, 5]\n"
          ]
        }
      ]
    },
    {
      "cell_type": "code",
      "source": [
        "nested = [[1, [2]], [3, 4], [5, 6]]\n",
        "nested[0][1] #returns 2\n",
        "nested[1] = 7\n",
        "print(nested)"
      ],
      "metadata": {
        "colab": {
          "base_uri": "https://localhost:8080/"
        },
        "id": "yzTehzO106t6",
        "outputId": "634bfc76-da5a-482c-cdb8-66f22e088147"
      },
      "execution_count": null,
      "outputs": [
        {
          "output_type": "stream",
          "name": "stdout",
          "text": [
            "[[1, [2]], 7, [5, 6]]\n"
          ]
        }
      ]
    },
    {
      "cell_type": "code",
      "source": [
        "text = \"hello\"\n",
        "print(text[0])\n",
        "print(text[3])\n",
        "print(list(text))"
      ],
      "metadata": {
        "colab": {
          "base_uri": "https://localhost:8080/"
        },
        "id": "dG1i6Xk61HMi",
        "outputId": "79c4d652-b2d7-4787-b7f3-176ace027ca4"
      },
      "execution_count": null,
      "outputs": [
        {
          "output_type": "stream",
          "name": "stdout",
          "text": [
            "h\n",
            "l\n",
            "['h', 'e', 'l', 'l', 'o']\n"
          ]
        }
      ]
    },
    {
      "cell_type": "markdown",
      "source": [
        "#W2L4 - control flow"
      ],
      "metadata": {
        "id": "pPGtpYOZ1dW5"
      }
    },
    {
      "cell_type": "markdown",
      "source": [
        "\n",
        "\n",
        "```\n",
        "1. Control Flow\n",
        "Concept: Control flow determines the order in which statements in a program are executed. It allows programs to make decisions and repeat actions based on conditions.\n",
        "Analogy: Think of it like a set of traffic signals that direct the \"flow\" of your program.\n",
        "\n",
        "2. Conditional Execution (if, elif, else)\n",
        "Purpose: Executes different blocks of code depending on whether a condition is true or false.\n",
        "\n",
        ">elif: Short for \"else if\", it checks additional conditions if the previous if or elif conditions were false.\n",
        "\n",
        "3. Loops (for, while)\n",
        "\n",
        ">Purpose:  Repeats a block of code multiple times.\n",
        ">for loop:  Repeats a specific number of times, iterating over a sequence (like a list or the result of range).\n",
        "\n",
        ">while loop:  Repeats as long as a condition is true.\n",
        "\n",
        "4. The range() Function\n",
        "\n",
        "Purpose: Generates a sequence of numbers.\n",
        "Example:\n",
        "range(5): 0, 1, 2, 3, 4\n",
        "range(2, 7): 2, 3, 4, 5, 6\n",
        "range(0, 10, 2): 0, 2, 4, 6, 8 (steps of 2)\n",
        "```\n",
        "\n"
      ],
      "metadata": {
        "id": "ir4cCBF11lXa"
      }
    },
    {
      "cell_type": "code",
      "source": [
        "age = 20\n",
        "if age >= 18 :\n",
        "    print('you are eligible to vote')\n",
        "else:\n",
        "    print('you are not eligible to vote')"
      ],
      "metadata": {
        "colab": {
          "base_uri": "https://localhost:8080/"
        },
        "id": "JgfMciyX28kU",
        "outputId": "d6a776c8-ce90-481d-9305-67cf3743ad60"
      },
      "execution_count": null,
      "outputs": [
        {
          "output_type": "stream",
          "name": "stdout",
          "text": [
            "you are eligible to vote\n"
          ]
        }
      ]
    },
    {
      "cell_type": "code",
      "source": [
        "score = 85\n",
        "if score >= 90:\n",
        "    ptint('A')\n",
        "elif score >= 80:\n",
        "    print('B')\n",
        "else:\n",
        "    print('C')\n"
      ],
      "metadata": {
        "colab": {
          "base_uri": "https://localhost:8080/"
        },
        "id": "Tt6mlR4B4C2S",
        "outputId": "8dd2ad11-f81f-4785-a316-1e81a376552a"
      },
      "execution_count": null,
      "outputs": [
        {
          "output_type": "stream",
          "name": "stdout",
          "text": [
            "B\n"
          ]
        }
      ]
    },
    {
      "cell_type": "code",
      "source": [
        "for i in range(5):\n",
        "    print(i)"
      ],
      "metadata": {
        "colab": {
          "base_uri": "https://localhost:8080/"
        },
        "id": "ciU1XHDv4dKK",
        "outputId": "0c6c41c1-f43b-4af8-a332-42308ecec8fe"
      },
      "execution_count": null,
      "outputs": [
        {
          "output_type": "stream",
          "name": "stdout",
          "text": [
            "0\n",
            "1\n",
            "2\n",
            "3\n",
            "4\n"
          ]
        }
      ]
    },
    {
      "cell_type": "code",
      "source": [
        "count = 0\n",
        "while count <3:\n",
        "    print(\"still counting\")\n",
        "    count += 1  # count = count +1"
      ],
      "metadata": {
        "colab": {
          "base_uri": "https://localhost:8080/"
        },
        "id": "jqWrI6ar4mOK",
        "outputId": "7bdd7940-c7e5-480f-f6ff-0ccc6d8f5393"
      },
      "execution_count": null,
      "outputs": [
        {
          "output_type": "stream",
          "name": "stdout",
          "text": [
            "still counting\n",
            "still counting\n",
            "still counting\n"
          ]
        }
      ]
    },
    {
      "cell_type": "markdown",
      "source": [
        "#W2L5 - functions"
      ],
      "metadata": {
        "id": "2y1avnrIr33V"
      }
    },
    {
      "cell_type": "markdown",
      "source": [
        "\n",
        "\n",
        "```\n",
        "\n",
        "1. Functions\n",
        "Purpose: Group statements to perform a specific task.\n",
        "Benefits:\n",
        "Logical separation of code.\n",
        "Code reuse (calling the function multiple times).\n",
        "\n",
        "2. Function Definition\n",
        "Syntax:\n",
        "def function_name(parameter1, parameter2, ...):\n",
        "    statement1\n",
        "    statement2\n",
        "    return value  # Optional\n",
        "\n",
        ">Explanation:\n",
        "def: Keyword to define a function.\n",
        ">function_name: How you'll refer to the\n",
        "function later.\n",
        ">parameters: Inputs the function takes (can be empty).\n",
        ">return: Exits the function and sends back a value.\n",
        "\n",
        "3. Passing Values to Functions\n",
        ">Arguments: The actual values you provide when calling a function.\n",
        ">Behavior: Similar to assignment.\n",
        "power(3, 5) is like x = 3, n = 5 inside the function.\n",
        "\n",
        "Mutability Matters!\n",
        ">Immutable Arguments: Changes inside the function don't affect the original values.\n",
        "\n",
        ">Mutable Arguments: Changes inside the function do affect the original values.\n",
        "\n",
        "\n",
        "4. Function Behavior: Key Points\n",
        "return is Optional: Functions don't need to return values.\n",
        ">Multiple returns: A function can have several return statements (useful for different conditions).\n",
        ">No Return Value? If a function lacks a return, it ends when it reaches the last statement.\n",
        "\n",
        "5. Scope of Names\n",
        "Local Scope: Variables created inside a function are separate from those outside.\n",
        "\n",
        "\n",
        "6. Function Definition Order\n",
        "Rule: Define a function before you call it.\n",
        "Why? Python reads code top-to-bottom. If you call a function before defining it, Python won't know what it is.\n",
        "\n",
        "7. Recursive Functions\n",
        "Concept: A function that calls itself.\n",
        "Key Elements:\n",
        "Base Case: A condition where the function stops calling itself.\n",
        "Recursive Step: The function calls itself with a modified input, working towards the base case.\n",
        "\n",
        "\n"
      ],
      "metadata": {
        "id": "grq3t8XbsAAI"
      }
    },
    {
      "cell_type": "code",
      "source": [
        "#3examples - definition outside doesn't affect original values\n",
        "def try_change(y):\n",
        "    y = y + 1\n",
        "    print(\"Inside:\", y) #y is changed\n",
        "\n",
        "z = 8\n",
        "try_change(z)\n",
        "print(\"Outside:\", z) #z is unchanged\n",
        "\n"
      ],
      "metadata": {
        "id": "v1fDjK4Dr_iV"
      },
      "execution_count": null,
      "outputs": []
    },
    {
      "cell_type": "code",
      "source": [
        "#3 example of mutable arguments\n",
        "def update_list(my_list):\n",
        "    my_list[0] = 100\n",
        "\n",
        "my_list = [1,2,3,4] #we can also use other variable here it will also work\n",
        "update_list(my_list)\n",
        "print(my_list)"
      ],
      "metadata": {
        "id": "EtuuGgotElCo"
      },
      "execution_count": null,
      "outputs": []
    },
    {
      "cell_type": "code",
      "source": [
        "#5 example of scope\n",
        "def confuse():\n",
        "    n = 17  # This 'n' is local\n",
        "\n",
        "n = 7  # This 'n' is different\n",
        "confuse()\n",
        "print(n)  # Output: 7\n"
      ],
      "metadata": {
        "id": "YjHBBskTE70i"
      },
      "execution_count": null,
      "outputs": []
    },
    {
      "cell_type": "code",
      "source": [
        "# 7examples - recursive call\n",
        "def factorial(n):\n",
        "    if n <= 1:  # Base case\n",
        "        return 1\n",
        "    else:\n",
        "        return n * factorial(n - 1)  # Recursive step"
      ],
      "metadata": {
        "id": "kqyO-f5IFDE-"
      },
      "execution_count": null,
      "outputs": []
    },
    {
      "cell_type": "markdown",
      "source": [
        "#W2L6 - examples"
      ],
      "metadata": {
        "id": "32UQ1BHytHyC"
      }
    },
    {
      "cell_type": "markdown",
      "source": [
        "\n",
        "\n",
        "```\n",
        "1. Finding Factors\n",
        "Concept: A factor of a number n divides n evenly (no remainder).\n",
        "Example: Factors of 12 are 1, 2, 3, 4, 6, and 12.\n",
        "Code:\n",
        "\n",
        "\n",
        "2. Prime Numbers\n",
        "Concept: A prime number has only two factors: 1 and itself.\n",
        "Examples: 2, 3, 5, 7, 11, 13...\n",
        "\n",
        "Important Note: 1 is not considered a prime number.\n",
        "\n",
        "3. Generating Lists of Primes\n",
        "Primes up to n:\n",
        "def primesupto(n):\n",
        "    primes_list = []\n",
        "    for i in range(2, n + 1):  # 1 is not prime\n",
        "        if isprime(i):\n",
        "            primes_list.append(i)\n",
        "    return primes_list\n",
        "\n",
        "print(primesupto(20))  # Output: [2, 3, 5, 7, 11, 13, 17, 19]\n",
        "\n",
        "First n primes:\n",
        "Python\n",
        "\n",
        "def nprimes(n):\n",
        "    count = 0\n",
        "    i = 2  # Start checking for primes from 2\n",
        "    primes_list = []\n",
        "\n",
        "    while count < n:\n",
        "        if isprime(i):\n",
        "            primes_list.append(i)\n",
        "            count += 1\n",
        "        i += 1\n",
        "    return primes_list\n",
        "\n",
        "print(nprimes(5))  # Output: [2, 3, 5, 7, 11]\n",
        "\n",
        "4. for vs. while Loops\n",
        "for loops: Use when you know in advance how many times you need to repeat something (e.g., iterating through a list or a fixed range).\n",
        "while loops: Use when you need to repeat something an unknown number of times until a certain condition is met.\n",
        "\n",
        "5. Simulating for with while\n",
        "Ranges:\n",
        "\n",
        "Python\n",
        "\n",
        "for n in range(i, j):  # Using for\n",
        "    # ... some code ...\n",
        "\n",
        "# Equivalent using while\n",
        "n = i\n",
        "while n < j:\n",
        "    # ... same code ...\n",
        "    n += 1\n",
        "Lists:\n",
        "\n",
        "Python\n",
        "\n",
        "for n in my_list:  # Using for\n",
        "    # ... some code ...\n",
        "\n",
        "# Equivalent using while\n",
        "i = 0\n",
        "while i < len(my_list):\n",
        "    n = my_list[i]\n",
        "    # ... same code ...\n",
        "    i += 1\n",
        "Readability:  for loops are often more concise and easier to understand when you know the number of repetitions.\n",
        "\n",
        "6. Qualities of Good Programs\n",
        "Correctness: The program does what it's supposed to do.\n",
        "Efficiency: The program uses resources (time, memory) wisely.\n",
        "Readability: The code is easy to understand and maintain.\n",
        "Style: Following consistent conventions makes code more readable.\n",
        "\n",
        "7. Importance of Functions\n",
        "Breakdown Problems: Divide complex tasks into smaller, manageable functions.\n",
        "Code Reusability: Call functions multiple times without rewriting code.\n",
        "Maintainability: Easier to update or fix parts of a program without affecting the whole thing.\n",
        "\n",
        "Sources and related content\n",
        "\n",
        "```\n",
        "\n"
      ],
      "metadata": {
        "id": "yOqAhRdXtL2_"
      }
    },
    {
      "cell_type": "code",
      "source": [
        "#finding factors\n",
        "def factors(n):\n",
        "  factorlist = []\n",
        "  for i in range(1,n+1):\n",
        "    if n%i == 0:\n",
        "      factorlist.append(i)\n",
        "  return factorlist\n",
        "\n",
        "print(factors(12))\n",
        "# is the given number prime\n",
        "def isprime(n):\n",
        "  return factors(n) == [1, n]\n",
        "\n",
        "print(isprime(12))\n",
        "\n",
        "# primelist upto n\n",
        "def primes(n):\n",
        "  primelist = []\n",
        "  for i in range(2,n+1):\n",
        "    if isprime(i):\n",
        "      primelist.append(i)\n",
        "  return primelist\n",
        "print(primes(12))\n",
        "#first n primes\n",
        "def nprimes(n):\n",
        "  count = 0\n",
        "  i = 1\n",
        "  prime_list = []\n",
        "  while count<n:\n",
        "    if isprime(i):\n",
        "      prime_list.append(i)\n",
        "      count += 1\n",
        "    i += 1\n",
        "  return prime_list\n",
        "print(nprimes(17))"
      ],
      "metadata": {
        "id": "LW59S6jQteq0"
      },
      "execution_count": null,
      "outputs": []
    },
    {
      "cell_type": "markdown",
      "source": [
        "#W3L1 - more about range"
      ],
      "metadata": {
        "id": "6M05OYjF_N64"
      }
    },
    {
      "cell_type": "markdown",
      "source": [
        "\n",
        "\n",
        "```\n",
        "1. The range() Function\n",
        "\n",
        "Purpose: Generates sequences of numbers.\n",
        "Basic Syntax: range(i, j) produces numbers from i up to (but not including) j.\n",
        "range(5): 0, 1, 2, 3, 4\n",
        "range(2, 7): 2, 3, 4, 5, 6\n",
        "Step Argument: range(i, j, k) generates numbers with a step of k.\n",
        "range(0, 10, 2): 0, 2, 4, 6, 8\n",
        "Counting Down: Use a negative step to count down.\n",
        "range(5, 0, -1): 5, 4, 3, 2, 1\n",
        "2. Why range() Stops at j-1\n",
        "\n",
        "Convenience with Lists: Makes it easy to iterate through list indices.\n",
        "A list of length n has indices from 0 to n-1.\n",
        "range(0, len(my_list)) generates the correct indices.\n",
        "3. range() and Lists\n",
        "\n",
        "Python 2: range() produced a list.\n",
        "Python 3: range() produces a sequence, but not a list.\n",
        "Conversion: Use list(range(...)) to create a list from a range() sequence.\n",
        "4. Type Conversion\n",
        "\n",
        "General Pattern: Use type names as functions to convert between types.\n",
        "str(78): Converts the number 78 to the string \"78\".\n",
        "int(\"321\"): Converts the string \"321\" to the integer 321.\n",
        "Error Handling: Type conversion functions will give an error if the conversion isn't possible.\n",
        "```\n",
        "\n"
      ],
      "metadata": {
        "id": "GmWjzhaV_wXH"
      }
    },
    {
      "cell_type": "markdown",
      "source": [
        "#W3L2 - manupulating lists"
      ],
      "metadata": {
        "id": "HipTzC06_cJq"
      }
    },
    {
      "cell_type": "markdown",
      "source": [
        "\n",
        "\n",
        "```\n",
        "\n",
        "1. Lists: Mutable Objects\n",
        "\n",
        "Key Idea: Lists are mutable, meaning you can change their contents directly.\n",
        "Behavior: If you assign one list to another, both variables point to the same list in memory. Changes made through either variable affect the other.\n",
        "Python\n",
        "\n",
        "list1 = [1, 3, 5, 6]\n",
        "list2 = list1  # list2 now refers to the same list as list1\n",
        "list1[2] = 7   # Change an element via list1\n",
        "\n",
        "print(list1)  # Output: [1, 3, 7, 6]\n",
        "print(list2)  # Output: [1, 3, 7, 6] (list2 is also changed!)\n",
        "2. Creating New Lists\n",
        "\n",
        "Concatenation (+) and Slicing: When you use the + operator or slicing to create a modified list, you are actually creating a new list object.\n",
        "Python\n",
        "\n",
        "list1 = [1, 3, 5, 6]\n",
        "list2 = list1\n",
        "list1 = list1[0:2] + [7] + list1[3:]  # Creates a new list\n",
        "\n",
        "print(list1)  # Output: [1, 3, 7, 6]\n",
        "print(list2)  # Output: [1, 3, 5, 6] (list2 remains unchanged)\n",
        "3. Extending Lists: append() vs. +\n",
        "\n",
        "append(): Modifies the list in-place. It's like adding a room to an existing house.\n",
        "\n",
        "Python\n",
        "\n",
        "list1 = [1, 3, 5, 6]\n",
        "list2 = list1\n",
        "list1.append(12)  # Modifies the original list\n",
        "\n",
        "print(list1)  # Output: [1, 3, 5, 6, 12]\n",
        "print(list2)  # Output: [1, 3, 5, 6, 12]\n",
        "+ Operator: Creates a new list.\n",
        "\n",
        "Python\n",
        "\n",
        "list1 = [1, 3, 5, 6]\n",
        "list2 = list1\n",
        "list1 = list1 + [12]  # Creates a new list\n",
        "\n",
        "print(list1)  # Output: [1, 3, 5, 6, 12]\n",
        "print(list2)  # Output: [1, 3, 5, 6] (unchanged)\n",
        "4. List Functions\n",
        "\n",
        "extend(): Adds all elements of one list to the end of another (in-place).\n",
        "\n",
        "Python\n",
        "\n",
        "list1 = [1, 2, 3]\n",
        "list1.extend([4, 5, 6])\n",
        "print(list1)  # Output: [1, 2, 3, 4, 5, 6]\n",
        "remove(): Removes the first occurrence of a value. Raises an error if the value is not found.\n",
        "\n",
        "Python\n",
        "\n",
        "list1 = [1, 2, 3, 2]\n",
        "list1.remove(2)\n",
        "print(list1)  # Output: [1, 3, 2]\n",
        "5. List Membership (in)\n",
        "\n",
        "Check for Existence: Use value in list to see if a value is present.\n",
        "\n",
        "Python\n",
        "\n",
        "my_list = ['apple', 'banana', 'cherry']\n",
        "print('banana' in my_list)  # Output: True\n",
        "print('date' in my_list)    # Output: False\n",
        "Safe Removal: Combine in with remove() to avoid errors.\n",
        "\n",
        "Python\n",
        "\n",
        "if 'banana' in my_list:\n",
        "    my_list.remove('banana')\n",
        "6. Other List Functions\n",
        "\n",
        "reverse(): Reverses the list in-place.\n",
        "sort(): Sorts the list in-place.\n",
        "index(): Finds the first index of a value.\n",
        "rindex(): Finds the last index of a value.\n",
        "7. Slices: Powerful but Potentially Confusing\n",
        "\n",
        "In-place Modification: Assigning to a slice changes the original list.\n",
        "\n",
        "Python\n",
        "\n",
        "list1 = [1, 3, 5, 6]\n",
        "list2 = list1\n",
        "list1[2:] = [7, 8]  # Replace from index 2 onwards\n",
        "\n",
        "print(list1)  # Output: [1, 3, 7, 8]\n",
        "print(list2)  # Output: [1, 3, 7, 8]\n",
        "Resize: Slices can be used to make lists longer or shorter.\n",
        "\n",
        "Python\n",
        "\n",
        "list1 = [1, 3, 7, 8]\n",
        "list1[2:] = [9, 10, 11]  # Increase size\n",
        "\n",
        "list2 = [1, 3, 9, 10, 11]\n",
        "list2[0:2] = [7]  # Decrease size\n",
        "8. Names and Initialization\n",
        "\n",
        "Dynamic Typing: Python figures out types as your code runs.\n",
        "Initialization: You must assign a value to a variable before using it.\n",
        "Lists and append(): A list must exist before you can use append(). Usually, you initialize it to an empty list [].\n",
        "\n",
        "```\n",
        "\n"
      ],
      "metadata": {
        "id": "IekShDBnAD01"
      }
    },
    {
      "cell_type": "code",
      "source": [
        "def factors(n):\n",
        "    \"\"\"Calculates the factors of n.\"\"\"\n",
        "    factor_list = []  # Initialize an empty list\n",
        "    for i in range(1, n + 1):\n",
        "        if n % i == 0:\n",
        "            factor_list.append(i)  # Now it's safe to append\n",
        "    return factor_list"
      ],
      "metadata": {
        "id": "f9uZtd5OP4SN"
      },
      "execution_count": null,
      "outputs": []
    },
    {
      "cell_type": "markdown",
      "source": [
        "#W3L3 - breaking out of a loop"
      ],
      "metadata": {
        "id": "KSTuUqDA_hcj"
      }
    },
    {
      "cell_type": "markdown",
      "source": [
        "\n",
        "\n",
        "```\n",
        "\n",
        "1. Loop Termination: break\n",
        "\n",
        "Purpose: Immediately exits a loop (either for or while).\n",
        "Use Case: When you've found what you're looking for, or a certain condition is met.\n",
        "Example:\n",
        "Python\n",
        "\n",
        "def find_first_even(numbers):\n",
        "    \"\"\"Finds the index of the first even number in a list.\"\"\"\n",
        "    for i in range(len(numbers)):\n",
        "        if numbers[i] % 2 == 0:  # Found an even number\n",
        "            return i\n",
        "    return -1  # No even numbers found\n",
        "2. The else Clause in Loops\n",
        "\n",
        "Behavior: The else block is executed only if the loop completes all its iterations without encountering a break.\n",
        "Analogy: Think of it like an if-else for the loop itself.\n",
        "Example:\n",
        "Python\n",
        "\n",
        "def is_prime(n):\n",
        "    \"\"\"Checks if n is a prime number.\"\"\"\n",
        "    if n <= 1:\n",
        "        return False\n",
        "    for i in range(2, int(n**0.5) + 1):\n",
        "        if n % i == 0:\n",
        "            return False  # Not prime, found a factor\n",
        "    else:  # No factors found\n",
        "        return True  # It's prime!\n",
        "3. Search with break and else\n",
        "\n",
        "Problem: Search for a value in a list, return its index, or -1 if not found.\n",
        "Solution:\n",
        "Python\n",
        "\n",
        "def find_pos(my_list, value):\n",
        "    \"\"\"Finds the first position of value in my_list.\"\"\"\n",
        "    for i in range(len(my_list)):\n",
        "        if my_list[i] == value:\n",
        "            return i  # Found it!\n",
        "    else:  # Loop finished without finding it\n",
        "        return -1\n",
        "4. Why else with Loops?\n",
        "\n",
        "Clarity: Makes the code's intent more explicit.\n",
        "Avoids Flags: Reduces the need for extra \"found\" variables.\n",
        "Pythonic Style: Leverages Python's features for more concise code.\n",
        "5. Important Notes\n",
        "\n",
        "else with while: Works the same way.\n",
        "Nested Loops: break only exits the innermost loop.\n",
        "Readability: Use break and else judiciously to keep your code understandable.\n",
        "```\n",
        "\n"
      ],
      "metadata": {
        "id": "4imX2oxsAH7K"
      }
    },
    {
      "cell_type": "markdown",
      "source": [
        "#W3L4 - array vs list(binary search)"
      ],
      "metadata": {
        "id": "HqEeFVuw_mkf"
      }
    },
    {
      "cell_type": "markdown",
      "source": [
        "\n",
        "\n",
        "```\n",
        "\n",
        "1. Arrays\n",
        "\n",
        "Storage: A single, contiguous block of memory.\n",
        "Element Type: Typically, all elements have the same data type (e.g., all integers or all floats).\n",
        "Size: Usually fixed in advance.\n",
        "Access: Fast (constant time) to access any element using its index.\n",
        "Insertion/Deletion: Slow (linear time) because elements may need to be shifted.\n",
        "2. Lists\n",
        "\n",
        "Storage: Elements can be scattered in memory.\n",
        "Element Type: Flexible; elements can have different data types.\n",
        "Size: Flexible; can grow or shrink dynamically.\n",
        "Access: Slow (linear time) to access an element by index, as you need to follow links.\n",
        "Insertion/Deletion: Fast (constant time) once you've located the position.\n",
        "3. Python Lists (Implementation)\n",
        "\n",
        "Behavior: Python lists act more like arrays in terms of access time.\n",
        "Rationale: Underlying implementation details in Python allow for efficient indexed access.\n",
        "Course Assumption: For the rest of the course, we'll treat Python lists as if they were arrays for the purpose of algorithm analysis.\n",
        "4. Searching\n",
        "\n",
        "Unsorted Data:\n",
        "Method: Linear search (go through each element until you find the value).\n",
        "Time Complexity: O(n) – in the worst case, you have to examine every element.\n",
        "Sorted Data:\n",
        "Method: Binary search (repeatedly halve the search interval).\n",
        "Time Complexity: O(log n) – much faster than linear search for large datasets.\n",
        "5. Binary Search\n",
        "\n",
        "Process:\n",
        "\n",
        "Find the middle element of the sorted sequence.\n",
        "If it's the value you're looking for, you're done.\n",
        "If your value is smaller, repeat the search in the left half.\n",
        "If your value is larger, repeat the search in the right half.\n",
        "Key Requirement: Binary search requires the data to be sorted.\n",
        "\n",
        "6. Efficiency\n",
        "\n",
        "Arrays: Efficient for random access (getting an element quickly), inefficient for insertions/deletions.\n",
        "Lists: Inefficient for random access, efficient for insertions/deletions.\n",
        "Binary Search: Extremely efficient for sorted arrays (or array-like structures).\n",
        "7. Code Examples\n",
        "\n",
        "Linear Search (Unsorted List):\n",
        "Python\n",
        "\n",
        "def search(seq, v):\n",
        "    for x in seq:\n",
        "        if x == v:\n",
        "            return True\n",
        "    return False\n",
        "Binary Search (Sorted List):\n",
        "Python\n",
        "\n",
        "def binary_search(seq, v, l, r):\n",
        "    if r - l == 0:  # Empty slice\n",
        "        return False\n",
        "    else:\n",
        "        mid = (l + r) // 2\n",
        "        if v == seq[mid]:\n",
        "            return True\n",
        "        elif v < seq[mid]:\n",
        "            return binary_search(seq, v, l, mid)\n",
        "        else:\n",
        "            return binary_search(seq, v, mid + 1, r)\n",
        "8. Practical Implications\n",
        "\n",
        "Choice of Data Structure: The best choice depends on how you'll use the data. If you need frequent random access, arrays (or array-like lists) are better. If you need frequent insertions/deletions, linked lists might be preferred (though Python lists handle many cases efficiently).\n",
        "Binary Search: A powerful technique, but only applicable when your data is sorted and you can access elements quickly by their index.\n",
        "```\n",
        "\n"
      ],
      "metadata": {
        "id": "LNr63EIyAXSF"
      }
    },
    {
      "cell_type": "markdown",
      "source": [
        "#W6-L1 backtracking -placequeen python implimentation"
      ],
      "metadata": {
        "id": "yAk4FDHRSOwE"
      }
    },
    {
      "cell_type": "code",
      "source": [
        "def initialize(board,n):\n",
        "    for key in ['queen','row','col','nwtose','swtone']:\n",
        "        board[key] = {}\n",
        "    for i in range (n):\n",
        "        board['queen'] = -1\n",
        "        board['row'][i] = 0\n",
        "        board['col'][j] = 0\n",
        "    for i in range(-(n-1),n):\n",
        "        board['nwtose'][i] = 0\n",
        "    for i in range(2*n-1):\n",
        "        board['swtone'][i] = 0\n",
        "\n",
        "    def printboard(board):\n",
        "        for row in sorted(board['queen'].keys()):\n",
        "            print(row,board['queen'][row])\n",
        "    def free(i,j,board):\n",
        "        return(board['row'][i] == 0 and board['col'][j] == 0 and board['nwtose'][j-i] == 0 and board['swtone'][j+i] == 0)\n",
        "\n",
        "    def addqueen(i,j,board):\n",
        "        board['queen'][i] = j\n",
        "        board['row'][i] = 1\n",
        "        board['col'][j] = 1\n",
        "        board['nwtose'][j-i] = 1\n",
        "        board['swtone'][j+i] = 1\n",
        "    def undoqueen(i,j,board):\n",
        "        board['queen'][i] = -1\n",
        "        board['row'][i] = 0\n",
        "        board['col'][j] = 0\n",
        "        board['nwtose'][j-i] = 0\n",
        "        board['swtone'][j+i] = 0\n",
        "    def placequeen(i,board):\n",
        "        n = len(board['queen'].keys())\n",
        "        for j in range(n):\n",
        "            if free(i,j,board):\n",
        "                addqueen(i,j,board)\n",
        "                if i == n-1:\n",
        "                    return(true)\n",
        "                else:\n",
        "                    extendsoln = placequeen(i+1,board)\n",
        "                if extendsoln:\n",
        "                    return(true)\n",
        "            else:\n",
        "                undoqueen(i,j,board)\n",
        "        else:\n",
        "            return(false)\n",
        "    board = {}\n",
        "    n = int(input(\"how many queens?\"))\n",
        "    intialise(board,n)\n",
        "    if placequeen(0,board):\n",
        "        printboard(board)\n",
        "\n"
      ],
      "metadata": {
        "id": "SWpd3j7zcI2_"
      },
      "execution_count": null,
      "outputs": []
    },
    {
      "cell_type": "markdown",
      "source": [
        "if you want to print all solution then\n",
        "\n",
        " def placequeen(i,board):\n",
        "    \n",
        "    for each c such that (i,c) is available:\n",
        "        \n",
        "        place queen at (i,c) and update board\n",
        "        \n",
        "        if i == n-1:\n",
        "            \n",
        "            record solution\n",
        "        \n",
        "        else:\n",
        "            extendsoln = placequeen(i+1,board)\n",
        "            undo this move and update board"
      ],
      "metadata": {
        "id": "_pHH3xFjgXzu"
      }
    },
    {
      "cell_type": "code",
      "source": [
        "def initialize(board,n):\n",
        "    for key in ['queen','row','col','nwtose','swtone']:\n",
        "        board[key] = {}\n",
        "    for i in range (n):\n",
        "        board['queen'] = -1\n",
        "        board['row'][i] = 0\n",
        "        board['col'][j] = 0\n",
        "    for i in range(-(n-1),n):\n",
        "        board['nwtose'][i] = 0\n",
        "    for i in range(2*n-1):\n",
        "        board['swtone'][i] = 0\n",
        "\n",
        "    def printboard(board):\n",
        "        for row in sorted(board['queen'].keys()):\n",
        "            print(row,board['queen'][row],end=\" \")\n",
        "    def free(i,j,board):\n",
        "        return(board['row'][i] == 0 and board['col'][j] == 0 and board['nwtose'][j-i] == 0 and board['swtone'][j+i] == 0)\n",
        "\n",
        "    def addqueen(i,j,board):\n",
        "        board['queen'][i] = j\n",
        "        board['row'][i] = 1\n",
        "        board['col'][j] = 1\n",
        "        board['nwtose'][j-i] = 1\n",
        "        board['swtone'][j+i] = 1\n",
        "    def undoqueen(i,j,board):\n",
        "        board['queen'][i] = -1\n",
        "        board['row'][i] = 0\n",
        "        board['col'][j] = 0\n",
        "        board['nwtose'][j-i] = 0\n",
        "        board['swtone'][j+i] = 0\n",
        "    def placequeen(i,board):\n",
        "        n = len(board['queen'].keys())\n",
        "        for j in range(n):\n",
        "            if free(i,j,board):\n",
        "                addqueen(i,j,board)\n",
        "                if i == n-1:\n",
        "                    print(board)\n",
        "                else:\n",
        "                    extendsoln = placequeen(i+1,board)\n",
        "                undoqueen(i,j,board)\n",
        "    board = {}\n",
        "    n = int(input(\"how many queens?\"))\n",
        "    intialise(board,n)\n",
        "    if placequeen(0,board):\n",
        "        printboard(board)\n",
        "\n"
      ],
      "metadata": {
        "id": "OsbwjS2ehWuc"
      },
      "execution_count": null,
      "outputs": []
    },
    {
      "cell_type": "markdown",
      "source": [],
      "metadata": {
        "id": "f20Z8x121aCY"
      }
    },
    {
      "cell_type": "markdown",
      "source": [
        "#W6L2 - global,scope,nested functions"
      ],
      "metadata": {
        "id": "5DqJjXOR4a42"
      }
    },
    {
      "cell_type": "markdown",
      "source": [
        "\n",
        "\n",
        "```\n",
        "1. Scope of Names\n",
        ">The scope of a name is the portion of code where it can be accessed (read) and modified (updated).\n",
        ">By default, in Python, the scope is local to functions.\n",
        ">A name is considered local only if it is updated (assigned a value) inside the function. If it is only read, Python looks for it in enclosing scopes.\n",
        "\n",
        "2. Global Variables\n",
        ">Global variables can be accessed from any part of the code.\n",
        "However, only mutable global variables (e.g., lists, dictionaries) can be modified directly within functions.\n",
        ">To modify an immutable global variable (e.g., integers, strings) within a function, you must use the global keyword to explicitly declare that you are referring to the global variable.\n",
        "\n",
        "3. Nested Functions\n",
        ">Python allows defining functions inside other functions, creating nested functions.\n",
        ">Nested functions have access to variables in the enclosing function's scope.\n",
        ">Nested functions are hidden from code outside the enclosing function.\n",
        ">The nonlocal keyword can be used to modify variables in the nearest enclosing scope that is not global.\n",
        "\n",
        "4. 8 Queens Problem\n",
        "The 8 Queens problem is used to illustrate the use of global variables.\n",
        "Using a global board variable eliminates the need to pass the board as an argument to each function.\n",
        "Since the board is a mutable dictionary, it can be updated directly within functions.\n",
        "\n",
        "\n",
        ">Understanding scope is essential for writing correct and maintainable Python code.\n",
        ">The global and nonlocal keywords provide control over variable access in different scopes.\n",
        ">Mutable and immutable data types have different behaviors when used as global variables.\n",
        ">Nested functions can be used to create helper functions that are only accessible within a specific function.\n",
        "\n",
        "\n",
        "```\n",
        "\n"
      ],
      "metadata": {
        "id": "zfBOy_PEdjdb"
      }
    },
    {
      "cell_type": "code",
      "source": [
        "#can we have a global version of the 8 queens board\n",
        "#example 1\n",
        "def f():\n",
        "    y=x\n",
        "    print(y)\n",
        "\n",
        "x = 7\n",
        "f()"
      ],
      "metadata": {
        "colab": {
          "base_uri": "https://localhost:8080/"
        },
        "id": "AcjyUFr9dhv0",
        "outputId": "1e02ae0c-0c6b-4649-b198-9f837fe716b1"
      },
      "execution_count": null,
      "outputs": [
        {
          "output_type": "stream",
          "name": "stdout",
          "text": [
            "7\n"
          ]
        }
      ]
    },
    {
      "cell_type": "code",
      "source": [
        "#example 2\n",
        "def f():\n",
        "    y=x[0]\n",
        "    print(y)\n",
        "    x[0]=22\n",
        "x = [7]\n",
        "f()\n"
      ],
      "metadata": {
        "colab": {
          "base_uri": "https://localhost:8080/"
        },
        "id": "oOvbFDkkqUoJ",
        "outputId": "fe93c492-c2f0-41d3-f973-06926f75e37c"
      },
      "execution_count": null,
      "outputs": [
        {
          "output_type": "stream",
          "name": "stdout",
          "text": [
            "7\n"
          ]
        }
      ]
    },
    {
      "cell_type": "code",
      "source": [
        "#example 2\n",
        "def f():\n",
        "    global x\n",
        "    y=x\n",
        "    print(y)\n",
        "    x=22\n",
        "x = 7\n",
        "f()\n",
        "print(x)"
      ],
      "metadata": {
        "colab": {
          "base_uri": "https://localhost:8080/"
        },
        "id": "bHSLdyvHtD8o",
        "outputId": "c1edfce1-d39d-401e-c158-cf33c59e36f5"
      },
      "execution_count": null,
      "outputs": [
        {
          "output_type": "stream",
          "name": "stdout",
          "text": [
            "7\n",
            "22\n"
          ]
        }
      ]
    },
    {
      "cell_type": "code",
      "source": [
        "#if you declare global x then it can be updated within g or h\n",
        "def f():\n",
        "    def g(a):\n",
        "        return(a+1)\n",
        "\n",
        "    def h(b):\n",
        "        return(2*b)\n",
        "\n",
        "    global x\n",
        "    y = g(x) + h(x):\n",
        "    print(y)\n",
        "    x = 22\n",
        "x = 7\n",
        "f() # from outside we cannot assign a value to g(x)"
      ],
      "metadata": {
        "id": "PQytDocEtqRT"
      },
      "execution_count": null,
      "outputs": []
    },
    {
      "cell_type": "code",
      "source": [
        "# intermediate scope:nonlocal"
      ],
      "metadata": {
        "id": "fbZAvd8-umUi"
      },
      "execution_count": null,
      "outputs": []
    },
    {
      "cell_type": "code",
      "source": [
        "def initialize(n): #we don't expllicitly need to write board everywhere because because we have a global value board as a dictionary\n",
        "    for key in ['queen','row','col','nwtose','swtone']:\n",
        "        board[key] = {}\n",
        "    for i in range (n):\n",
        "        board['queen'] = -1\n",
        "        board['row'][i] = 0\n",
        "        board['col'][j] = 0\n",
        "    for i in range(-(n-1),n):\n",
        "        board['nwtose'][i] = 0\n",
        "    for i in range(2*n-1):\n",
        "        board['swtone'][i] = 0\n",
        "\n",
        "    def printboard():\n",
        "        for row in sorted(board['queen'].keys()):\n",
        "            print(row,board['queen'][row])\n",
        "    def free(i,j):\n",
        "        return(board['row'][i] == 0 and board['col'][j] == 0 and board['nwtose'][j-i] == 0 and board['swtone'][j+i] == 0)\n",
        "\n",
        "    def addqueen(i,j):\n",
        "        board['queen'][i] = j\n",
        "        board['row'][i] = 1\n",
        "        board['col'][j] = 1\n",
        "        board['nwtose'][j-i] = 1\n",
        "        board['swtone'][j+i] = 1\n",
        "    def undoqueen(i,j):\n",
        "        board['queen'][i] = -1\n",
        "        board['row'][i] = 0\n",
        "        board['col'][j] = 0\n",
        "        board['nwtose'][j-i] = 0\n",
        "        board['swtone'][j+i] = 0\n",
        "    def placequeen(i):\n",
        "        n = len(board['queen'].keys())\n",
        "        for j in range(n):\n",
        "            if free(i,j,board):\n",
        "                addqueen(i,j,board)\n",
        "                if i == n-1:\n",
        "                    print(board)\n",
        "                else:\n",
        "                    extendsoln = placequeen(i+1,board)\n",
        "                undoqueen(i,j,board)\n",
        "    board = {}\n",
        "    n = int(input(\"how many queens?\"))\n",
        "    intialise(board,n)\n",
        "    if placequeen(0,board):\n",
        "        printboard(board)"
      ],
      "metadata": {
        "id": "X9IN__a2rMex"
      },
      "execution_count": null,
      "outputs": []
    },
    {
      "cell_type": "markdown",
      "source": [
        "#W6L3 - generating permutations"
      ],
      "metadata": {
        "id": "2_XC6g5ooSzY"
      }
    },
    {
      "cell_type": "markdown",
      "source": [
        "\n",
        "\n",
        "```\n",
        "\n",
        "1. Backtracking\n",
        "Concept: A systematic search strategy that explores potential solutions step-by-step.\n",
        "Process:\n",
        ">Build a solution incrementally.\n",
        ">If a dead end is reached, undo the last step and try an alternative.\n",
        ">Analogy: Think of navigating a maze. If you reach a dead end, you backtrack to the last intersection and try a different path.\n",
        "\n",
        "2. Generating Permutations\n",
        ">Usefulness: Essential when you need to explore all possible arrangements of a set of items.\n",
        ">Example: The N-Queens problem, where you need to try different column placements for queens on a chessboard.\n",
        "\n",
        "3. Finding the Next Permutation\n",
        ">Goal: Given a permutation, find the next permutation in lexicographic (dictionary) order.\n",
        ">Example: If you have the permutation \"dchbaeglkonmji\", what's the next one?\n",
        "\n",
        "4. Algorithm for Finding the Next Permutation\n",
        ">Step 1: Find the Longest Non-Increasing Suffix\n",
        ">Starting from the right, identify the longest portion that's in descending order.\n",
        ">This suffix cannot be incremented on its own.\n",
        ">Example: In \"dchbaeglkonmji\", the suffix \"onmji\" is the longest non-increasing suffix.\n",
        ">Step 2: Find the Pivot\n",
        ">The element just before the non-increasing suffix is the \"pivot\".\n",
        "This is the element we'll try to increment.\n",
        "Example: In \"dchbaeglkonmji\", the pivot is \"k\".\n",
        ">Step 3: Find the Swap Element\n",
        "In the non-increasing suffix, find the smallest element that's greater than the pivot.\n",
        "Example: In \"dchbaeglkonmji\", the swap element is \"m\".\n",
        ">Step 4: Swap\n",
        "Swap the pivot and the swap element.\n",
        "Example: \"dchbaeglmonkji\"\n",
        ">Step 5: Reverse the Suffix\n",
        "Reverse the non-increasing suffix to make it an increasing suffix.\n",
        "Example: \"dchbaeglmijkno\"\n",
        "\n",
        "5. Implementation Notes\n",
        ">Finding the swap element: Similar to an insertion sort, you can efficiently find the right element to swap.\n",
        ">Reversing the suffix: Since the suffix is in descending order, reversing it is quicker than fully sorting it.\n",
        "\n",
        "\n",
        "# \"abcdefghijkl\" is the shortest permutation\n",
        "# \"lkjihgfedcba\" is the longest permutation\n",
        "# what is impotant is finding a longest suffix that cannot be increamented\n",
        "or a shortest suffix that can be increamented\n",
        "```\n",
        "\n"
      ],
      "metadata": {
        "id": "M1JxHI5Kodih"
      }
    },
    {
      "cell_type": "code",
      "source": [],
      "metadata": {
        "id": "mkK3yn5Soco-"
      },
      "execution_count": null,
      "outputs": []
    },
    {
      "cell_type": "markdown",
      "source": [
        "#w6L4 - set, stacks and queues"
      ],
      "metadata": {
        "id": "BPonj0nnrP4_"
      }
    },
    {
      "cell_type": "markdown",
      "source": [
        "\n",
        "\n",
        "```\n",
        "\n",
        "1. Sets\n",
        "Concept: Like lists, but do not contain duplicate elements.\n",
        "Creating Sets:\n",
        "Using curly braces {}: Duplicates are automatically removed.\n",
        "Python\n",
        "\n",
        "colors = {'red', 'black', 'red', 'green'}\n",
        "print(colors)  # Output: {'black', 'red', 'green'}\n",
        "Using the set() function:\n",
        "Python\n",
        "\n",
        "empty_set = set()  # Creates an empty set\n",
        "numbers = set([0, 1, 3, 2, 1, 4])\n",
        "print(numbers)  # Output: {0, 1, 2, 3, 4}\n",
        "letters = set('banana')\n",
        "print(letters)  # Output: {'a', 'n', 'b'}\n",
        "Membership: Use the in keyword to check if an element is in a set.\n",
        "Python\n",
        "\n",
        "'black' in colors  # Returns True\n",
        "Set Operations:\n",
        "Union (|): Elements in either set.\n",
        "Python\n",
        "\n",
        "odd = set([1, 3, 5, 7, 9, 11])\n",
        "prime = set([2, 3, 5, 7, 11])\n",
        "odd | prime  # Returns: {1, 2, 3, 5, 7, 9, 11}\n",
        "Intersection (&): Elements in both sets.\n",
        "Python\n",
        "\n",
        "odd & prime  # Returns: {3, 5, 7, 11}\n",
        "Difference (-): Elements in the first set but not the second.\n",
        "Python\n",
        "\n",
        "odd - prime  # Returns: {1, 9}\n",
        "Exclusive OR (^): Elements in one set or the other, but not both.\n",
        "Python\n",
        "\n",
        "odd ^ prime # Returns: {1, 2, 9}\n",
        "\n",
        "2. Stacks\n",
        "Concept: Last-in, first-out (LIFO) data structure. Think of a stack of plates.\n",
        "Operations:\n",
        "push(s, x): Adds element x to the top of stack s.\n",
        "pop(s): Removes and returns the top element from stack s.\n",
        "Implementation (Python Lists):\n",
        "push(s, x): s.append(x)\n",
        "pop(s): s.pop() (Python's built-in list pop() does this)\n",
        "Use Case: Tracking recursive function calls, backtracking algorithms.\n",
        "\n",
        "3. Queues\n",
        "Concept: First-in, first-out (FIFO) data structure. Like a line at a store.\n",
        "Operations:\n",
        "addq(q, x): Adds element x to the rear of queue q.\n",
        "removeq(q): Removes the element at the front of queue q.\n",
        "Implementation (Python Lists):\n",
        "addq(q, x): q.insert(0, x)\n",
        "removeq(q): q.pop()\n",
        "Use Case: Systematic exploration of a search space (like in Breadth-First Search).\n",
        "\n",
        "4. Breadth-First Search (BFS) Example\n",
        "Problem: Given a knight on a chessboard, can it reach a target square?\n",
        "Approach:\n",
        "Maintain a queue of cells to explore.\n",
        "Start with the knight's initial position in the queue.\n",
        "While the queue is not empty:\n",
        "Remove a cell from the front of the queue.\n",
        "Find all valid knight moves from that cell.\n",
        "Add unvisited neighbors to the queue.\n",
        "Why Queues? Queues ensure that you explore cells in the order you reach them (level by level), guaranteeing you find the shortest path (if one exists).\n",
        "\n",
        "Example (3x3 grid):\n",
        "\n",
        "The provided example demonstrates how BFS, using a queue, systematically explores possible knight moves to determine if a target square is reachable.\n",
        "in the video (14:54 - 18:00)\n",
        "```\n",
        "\n"
      ],
      "metadata": {
        "id": "B7xHVllIrXPc"
      }
    },
    {
      "cell_type": "code",
      "source": [
        "#systematic exploration\n",
        "def explore(sx,sy,tx,ty):\n",
        "    marked = [[0 for i in range(n)] for j in range(m)]\n",
        "\n",
        "    marked[sx][sy] =1\n",
        "    queue = [(sx,sy)]\n",
        "    while queue != []:\n",
        "        (ax,ay)= queue.pop(0)\n",
        "        for (nx,ny) in neighbours(ax,ay):\n",
        "            if not marked[nx][ny]:\n",
        "                marked[nx][ny] = 1\n",
        "                queue.append((nx,ny))\n",
        "\n",
        "\n",
        "    return(marked[tx][ty])"
      ],
      "metadata": {
        "id": "IJVa9gW2rsiB"
      },
      "execution_count": 2,
      "outputs": []
    },
    {
      "cell_type": "markdown",
      "source": [
        "#W6L5 - priority queues and heaps"
      ],
      "metadata": {
        "id": "UVVpRVHtt8us"
      }
    },
    {
      "cell_type": "markdown",
      "source": [
        "\n",
        "\n",
        "```\n",
        "\n",
        "1. Priority Queues\n",
        "Concept: A queue where each item has a priority. Items with higher priority are removed before items with lower priority.\n",
        "Operations:\n",
        "delete_max(): Removes the item with the highest priority.\n",
        "insert(): Adds a new item with its associated priority.\n",
        "Implementation:\n",
        "Unsorted List: insert() is fast (O(1)), delete_max() is slow (O(n)).\n",
        "Sorted List: delete_max() is fast (O(1)), insert() is slow (O(n)).\n",
        "Heaps: Both insert() and delete_max() are efficient (O(log n)).\n",
        "\n",
        "2. Heaps\n",
        "Concept: A special type of binary tree that efficiently implements a priority queue.\n",
        "Properties:\n",
        "Structure: Filled level by level, from left to right.\n",
        "Max-Heap Property: The value at each node is greater than or equal to the values of its children.\n",
        "Operations:\n",
        "insert(): Adds a new element to the heap, maintaining the heap property.\n",
        "delete_max(): Removes the maximum element (root) from the heap, maintaining the heap property.\n",
        "\n",
        "3. Examples\n",
        "Valid Heap:\n",
        "\n",
        "    24\n",
        "   /  \\\n",
        "  11   7\n",
        " /\n",
        "10\n",
        "Invalid Heap (structural):\n",
        "\n",
        "    24\n",
        "   /  \\\n",
        "  11   7\n",
        " / \\\n",
        "10  5   \n",
        " \\\n",
        "  6  \n",
        "Invalid Heap (heap property):\n",
        "\n",
        "    24\n",
        "   /  \\\n",
        "  11   7\n",
        " / \\\n",
        "10  5   \n",
        "   /\n",
        "  8  \n",
        "\n",
        "4. Heap Operations: insert()\n",
        "Process:\n",
        "\n",
        "Add the new element at the next available position (bottom level, leftmost open spot).\n",
        "Compare the new element with its parent. If the new element is larger, swap them.\n",
        "Repeat step 2, moving up the tree until the heap property is restored.\n",
        "Example: Inserting 12 into the heap:\n",
        "\n",
        "    24\n",
        "   /  \\\n",
        "  11   7\n",
        " / \\\n",
        "10  5\n",
        "\n",
        "    24\n",
        "   /  \\\n",
        "  12   7\n",
        " / \\\n",
        "11  5\n",
        "/\n",
        "10\n",
        "\n",
        "\n",
        "\n",
        "5. Heap Operations: delete_max()\n",
        "\n",
        "Process:\n",
        "\n",
        "Replace the root (maximum element) with the last element in the heap.\n",
        "Remove the last element.\n",
        "Compare the new root with its children. Swap it with the larger child.\n",
        "Repeat step 3, moving down the tree until the heap property is restored.\n",
        "Example: Deleting the maximum element (24) from the heap:\n",
        "\n",
        "    24\n",
        "   /  \\\n",
        "  12   7\n",
        " / \\\n",
        "11  5\n",
        "\n",
        "    12\n",
        "   /  \\\n",
        "  11   7\n",
        " / \\\n",
        "10  5\n",
        "6. Time Complexity\n",
        "\n",
        "insert(): O(log n) - The height of the heap is logarithmic.\n",
        "delete_max(): O(log n) - Same reason as above.\n",
        "7. Array Implementation of Heaps\n",
        "\n",
        "Mapping:\n",
        "\n",
        "Root: index 0\n",
        "Node at index i:\n",
        "Left child: index 2i + 1\n",
        "Right child: index 2i + 2\n",
        "Parent: index floor((i - 1) / 2)\n",
        "Example: The heap\n",
        "\n",
        "    24\n",
        "   /  \\\n",
        "  11   7\n",
        " / \\\n",
        "10  5\n",
        "would be represented as the array: [24, 11, 7, 10, 5]\n",
        "\n",
        "8. Building a Heap\n",
        "\n",
        "Naive Method: Insert elements one by one (O(n log n)).\n",
        "Bottom-up Heapify: More efficient (O(n)). Start from the last non-leaf node and work upwards, fixing the heap property at each level.\n",
        "9. Heapsort\n",
        "\n",
        "Process:\n",
        "\n",
        "Build a max-heap from the input list (O(n)).\n",
        "Repeatedly extract the maximum element (root) and place it at the end of the sorted portion of the list (O(n log n)).\n",
        "In-place: Heapsort can be performed within the original array.\n",
        "\n",
        "```\n",
        "\n"
      ],
      "metadata": {
        "id": "DRHtAfAAuEnI"
      }
    }
  ]
}