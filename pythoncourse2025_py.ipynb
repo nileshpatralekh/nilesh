{
  "nbformat": 4,
  "nbformat_minor": 0,
  "metadata": {
    "colab": {
      "provenance": [],
      "collapsed_sections": [
        "42Lw391bkdca",
        "Dm34dA1qmAQK",
        "0Q7i5q68op7B",
        "mgKttrMLrDLf",
        "yAk4FDHRSOwE"
      ],
      "authorship_tag": "ABX9TyPHgmVk+7jqNOm5fhWCAbIg",
      "include_colab_link": true
    },
    "kernelspec": {
      "name": "python3",
      "display_name": "Python 3"
    },
    "language_info": {
      "name": "python"
    }
  },
  "cells": [
    {
      "cell_type": "markdown",
      "metadata": {
        "id": "view-in-github",
        "colab_type": "text"
      },
      "source": [
        "<a href=\"https://colab.research.google.com/github/nileshpatralekh/nileshpatralekh.github.io/blob/python2025/pythoncourse2025_py.ipynb\" target=\"_parent\"><img src=\"https://colab.research.google.com/assets/colab-badge.svg\" alt=\"Open In Colab\"/></a>"
      ]
    },
    {
      "cell_type": "markdown",
      "source": [
        "#w1L1 - basics of algorithms - compute gcd"
      ],
      "metadata": {
        "id": "42Lw391bkdca"
      }
    },
    {
      "cell_type": "code",
      "source": [
        "def gcd(m,n): #behaving like a function in maths\n",
        "    fm = [] #assigning value\n",
        "    for i in range (1,m+1): # from 1 to m\n",
        "        if (m%i) == 0:\n",
        "            fm.append(i)\n",
        "    fn = []\n",
        "    for j in range (1,n+1):\n",
        "        if (n%j) == 0: # % means remainder in a division\n",
        "            fn.append(j) # means updating the value in the list\n",
        "    cf = []\n",
        "    for f in fm:\n",
        "        if f in fn:\n",
        "            cf.append(f) # compute cf\n",
        "    return(cf[-1]) # -1 in list is reffering to rightmost element\n",
        "\n",
        "m = 50\n",
        "n = 100\n",
        "\n",
        "print (\"the gcd of 50 and 100 is : \", end=\"\")\n",
        "print (gcd(m,n))"
      ],
      "metadata": {
        "colab": {
          "base_uri": "https://localhost:8080/"
        },
        "id": "HnYdJvKSk3XM",
        "outputId": "f92f6e6e-30e8-49ec-a1ae-4b486633b68f"
      },
      "execution_count": 8,
      "outputs": [
        {
          "output_type": "stream",
          "name": "stdout",
          "text": [
            "the gcd of 50 and 100 is : 50\n"
          ]
        }
      ]
    },
    {
      "source": [
        "#my code with ai help in lin6\n",
        "def gcd(m, n):\n",
        "    result = []\n",
        "    for i in m:\n",
        "        if i in n:\n",
        "            result.append(i)\n",
        "\n",
        "    if result:  # Check if result is not empty\n",
        "        max_common = max(result)  # Find the maximum common value\n",
        "        new_list = [max_common]  # Create a new list with the maximum\n",
        "        return new_list\n",
        "    else:\n",
        "        return []  # Return an empty list if no common elements found\n",
        "m = [1,5,7,9,8]\n",
        "n= [6,5,4,3,2]\n",
        "print(gcd(m,n))"
      ],
      "cell_type": "code",
      "metadata": {
        "id": "Ym3T7u0Dva6T",
        "colab": {
          "base_uri": "https://localhost:8080/"
        },
        "outputId": "26a52300-610b-42f0-b82e-d7314b9ec83f"
      },
      "execution_count": 15,
      "outputs": [
        {
          "output_type": "stream",
          "name": "stdout",
          "text": [
            "[5]\n"
          ]
        }
      ]
    },
    {
      "cell_type": "markdown",
      "source": [
        "*important points*\n",
        "\n",
        "assigning values explicitely use [ ]\n",
        "\n",
        "assigning values implicitely use - for f in cf:"
      ],
      "metadata": {
        "id": "W3tIauI-mev_"
      }
    },
    {
      "cell_type": "markdown",
      "source": [
        "#W1L2 improving gcd"
      ],
      "metadata": {
        "id": "Dm34dA1qmAQK"
      }
    },
    {
      "cell_type": "code",
      "source": [
        "def gcd(m,n):\n",
        "    cf = []\n",
        "    for i in range (1,min(m,n)+1):\n",
        "        if (m%i) == 0 and (n%i) == 0:\n",
        "            cf.append(i)\n",
        "    return(cf[-1])\n",
        "m = 50\n",
        "n = 100\n",
        "print (\"the gcd of 50 and 100 is : \", end=\"\")\n",
        "print (gcd(m,n)"
      ],
      "metadata": {
        "id": "ryK8AC2Pl-41"
      },
      "execution_count": null,
      "outputs": []
    },
    {
      "cell_type": "markdown",
      "source": [
        "we only need to remember the largest values and thus eliminating lists"
      ],
      "metadata": {
        "id": "_qRNhNdToFJo"
      }
    },
    {
      "cell_type": "code",
      "source": [
        "def gcd(m,n):\n",
        "    for i in range (1,min(m,n)+1):\n",
        "        if (m%i) == 0 and (n%i) == 0:\n",
        "            mrcf = i\n",
        "        return(mrcf)"
      ],
      "metadata": {
        "id": "Qp5wXKVQnnnu"
      },
      "execution_count": 9,
      "outputs": []
    },
    {
      "cell_type": "markdown",
      "source": [
        "we can also scan backwards"
      ],
      "metadata": {
        "id": "Ecg8fVPToSgf"
      }
    },
    {
      "cell_type": "code",
      "source": [
        "def gcd(m,n):\n",
        "    i = min(m,n) # = means assignment of a value and == means equals\n",
        "    while i > 0:\n",
        "        if (m%i) == 0 and (n%i) == 0:\n",
        "            return(i) # return means exit\n",
        "        else:\n",
        "            i = i-1"
      ],
      "metadata": {
        "id": "1ulC0LnuoVdX"
      },
      "execution_count": null,
      "outputs": []
    },
    {
      "cell_type": "markdown",
      "source": [
        "#W1L3 - euclid's algorithm"
      ],
      "metadata": {
        "id": "0Q7i5q68op7B"
      }
    },
    {
      "cell_type": "markdown",
      "source": [
        "suppose d divides both m and n and m>n\n",
        "\n",
        "then m= ad\n",
        "and n = bd\n",
        "\n",
        "then, m-n = (a-b)d\n",
        "\n",
        "=d is also a multiple of m-n\n",
        "\n",
        "so gcd(m,n)=gcd(m,m-n)"
      ],
      "metadata": {
        "id": "yX7sm4lVpBU9"
      }
    },
    {
      "cell_type": "code",
      "source": [
        "def gcd(m,n):\n",
        "    #assume m>=n  #this is a comment\n",
        "    if m<n:\n",
        "        (m,n) = (n,m) #exhanging values , but it is peculiar to python\n",
        "    if (m%n) == 0:\n",
        "        return(n)\n",
        "    else:\n",
        "        diff = m-n # diff > n?  not possible\n",
        "        return(gcd(max(n,diff),min(n,diff)) #recursion"
      ],
      "metadata": {
        "id": "R-z7HGZEovNG"
      },
      "execution_count": null,
      "outputs": []
    },
    {
      "cell_type": "code",
      "source": [
        "def gcd(m,n):\n",
        "    if m<n:\n",
        "        (m,n) = (n,m)\n",
        "    while(m%n) != 0:\n",
        "        diff = m-n #diff m-n>n not possible\n",
        "        (m,n) = (max(n,diff),min(n,diff))\n",
        "    return(n)"
      ],
      "metadata": {
        "id": "qq2PVZgsqUow"
      },
      "execution_count": 10,
      "outputs": []
    },
    {
      "cell_type": "markdown",
      "source": [
        "#W2L1 - assignment,stetement,basictypes- int,float,bool"
      ],
      "metadata": {
        "id": "mgKttrMLrDLf"
      }
    },
    {
      "cell_type": "markdown",
      "source": [
        "\n",
        "\n",
        "```\n",
        "# This is formatted as code\n",
        "\n",
        "def function_1(..,.,):\n",
        "....\n",
        "def function_2(..):\n",
        "....\n",
        "def function_3(.,.):\n",
        "...\n",
        "...\n",
        "...\n",
        "statement_1   #this is where execution happens\n",
        "statement_2\n",
        "statement_3\n",
        "\n",
        "it is recommended that function definition should written first and then execution should happens\n",
        "\n",
        "i = 5\n",
        "j = j*5\n",
        "j = j+5 #updating the value of j\n",
        "\n",
        "left hand side name and right hand side expression\n",
        "\n",
        "\n",
        "\n"
      ],
      "metadata": {
        "id": "9o93sqimrwle"
      }
    },
    {
      "cell_type": "code",
      "source": [],
      "metadata": {
        "id": "wQhsL8eOrrwo"
      },
      "execution_count": null,
      "outputs": []
    },
    {
      "cell_type": "markdown",
      "source": [
        "#W6-L1 backtracking -placequeen python implimentation"
      ],
      "metadata": {
        "id": "yAk4FDHRSOwE"
      }
    },
    {
      "cell_type": "code",
      "source": [
        "def initialize(board,n):\n",
        "    for key in ['queen','row','col','nwtose','swtone']:\n",
        "        board[key] = {}\n",
        "    for i in range (n):\n",
        "        board['queen'] = -1\n",
        "        board['row'][i] = 0\n",
        "        board['col'][j] = 0\n",
        "    for i in range(-(n-1),n):\n",
        "        board['nwtose'][i] = 0\n",
        "    for i in range(2*n-1):\n",
        "        board['swtone'][i] = 0\n",
        "\n",
        "    def printboard(board):\n",
        "        for row in sorted(board['queen'].keys()):\n",
        "            print(row,board['queen'][row])\n",
        "    def free(i,j,board):\n",
        "        return(board['row'][i] == 0 and board['col'][j] == 0 and board['nwtose'][j-i] == 0 and board['swtone'][j+i] == 0)\n",
        "\n",
        "    def addqueen(i,j,board):\n",
        "        board['queen'][i] = j\n",
        "        board['row'][i] = 1\n",
        "        board['col'][j] = 1\n",
        "        board['nwtose'][j-i] = 1\n",
        "        board['swtone'][j+i] = 1\n",
        "    def undoqueen(i,j,board):\n",
        "        board['queen'][i] = -1\n",
        "        board['row'][i] = 0\n",
        "        board['col'][j] = 0\n",
        "        board['nwtose'][j-i] = 0\n",
        "        board['swtone'][j+i] = 0\n",
        "    def placequeen(i,board):\n",
        "        n = len(board['queen'].keys())\n",
        "        for j in range(n):\n",
        "            if free(i,j,board):\n",
        "                addqueen(i,j,board)\n",
        "                if i == n-1:\n",
        "                    return(true)\n",
        "                else:\n",
        "                    extendsoln = placequeen(i+1,board)\n",
        "                if extendsoln:\n",
        "                    return(true)\n",
        "            else:\n",
        "                undoqueen(i,j,board)\n",
        "        else:\n",
        "            return(false)\n",
        "    board = {}\n",
        "    n = int(input(\"how many queens?\"))\n",
        "    intialise(board,n)\n",
        "    if placequeen(0,board):\n",
        "        printboard(board)\n",
        "\n",
        ""
      ],
      "metadata": {
        "id": "SWpd3j7zcI2_"
      },
      "execution_count": 6,
      "outputs": []
    },
    {
      "cell_type": "markdown",
      "source": [
        "if you want to print all solution then\n",
        "\n",
        " def placequeen(i,board):\n",
        "    \n",
        "    for each c such that (i,c) is available:\n",
        "        \n",
        "        place queen at (i,c) and update board\n",
        "        \n",
        "        if i == n-1:\n",
        "            \n",
        "            record solution\n",
        "        \n",
        "        else:\n",
        "            extendsoln = placequeen(i+1,board)\n",
        "            undo this move and update board"
      ],
      "metadata": {
        "id": "_pHH3xFjgXzu"
      }
    },
    {
      "cell_type": "code",
      "source": [
        "def initialize(board,n):\n",
        "    for key in ['queen','row','col','nwtose','swtone']:\n",
        "        board[key] = {}\n",
        "    for i in range (n):\n",
        "        board['queen'] = -1\n",
        "        board['row'][i] = 0\n",
        "        board['col'][j] = 0\n",
        "    for i in range(-(n-1),n):\n",
        "        board['nwtose'][i] = 0\n",
        "    for i in range(2*n-1):\n",
        "        board['swtone'][i] = 0\n",
        "\n",
        "    def printboard(board):\n",
        "        for row in sorted(board['queen'].keys()):\n",
        "            print(row,board['queen'][row],end=\" \")\n",
        "    def free(i,j,board):\n",
        "        return(board['row'][i] == 0 and board['col'][j] == 0 and board['nwtose'][j-i] == 0 and board['swtone'][j+i] == 0)\n",
        "\n",
        "    def addqueen(i,j,board):\n",
        "        board['queen'][i] = j\n",
        "        board['row'][i] = 1\n",
        "        board['col'][j] = 1\n",
        "        board['nwtose'][j-i] = 1\n",
        "        board['swtone'][j+i] = 1\n",
        "    def undoqueen(i,j,board):\n",
        "        board['queen'][i] = -1\n",
        "        board['row'][i] = 0\n",
        "        board['col'][j] = 0\n",
        "        board['nwtose'][j-i] = 0\n",
        "        board['swtone'][j+i] = 0\n",
        "    def placequeen(i,board):\n",
        "        n = len(board['queen'].keys())\n",
        "        for j in range(n):\n",
        "            if free(i,j,board):\n",
        "                addqueen(i,j,board)\n",
        "                if i == n-1:\n",
        "                    print(board)\n",
        "                else:\n",
        "                    extendsoln = placequeen(i+1,board)\n",
        "                undoqueen(i,j,board)\n",
        "    board = {}\n",
        "    n = int(input(\"how many queens?\"))\n",
        "    intialise(board,n)\n",
        "    if placequeen(0,board):\n",
        "        printboard(board)\n",
        "\n",
        ""
      ],
      "metadata": {
        "id": "OsbwjS2ehWuc"
      },
      "execution_count": 7,
      "outputs": []
    }
  ]
}